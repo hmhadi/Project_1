{
 "cells": [
  {
   "cell_type": "markdown",
   "metadata": {},
   "source": [
    "## Crypto Project Dashboard"
   ]
  },
  {
   "cell_type": "code",
   "execution_count": 23,
   "metadata": {},
   "outputs": [],
   "source": [
    "# Initial imports\n",
    "import os\n",
    "import pandas as pd\n",
    "import matplotlib.pyplot as plt\n",
    "import plotly.express as px\n",
    "import hvplot.pandas\n",
    "from pathlib import Path\n",
    "from dotenv import load_dotenv\n",
    "import panel as pn\n",
    "from panel.interact import interact\n",
    "from panel import widgets\n",
    "\n",
    "%matplotlib inline"
   ]
  },
  {
   "cell_type": "code",
   "execution_count": 24,
   "metadata": {},
   "outputs": [
    {
     "data": {
      "text/plain": [
       "True"
      ]
     },
     "execution_count": 24,
     "metadata": {},
     "output_type": "execute_result"
    }
   ],
   "source": [
    "load_dotenv()"
   ]
  },
  {
   "cell_type": "code",
   "execution_count": 25,
   "metadata": {},
   "outputs": [],
   "source": [
    "#Read in our crypto data\n",
    "btc_data = pd.read_csv(\"BTC_USD_2017-01-01_2021-01-02-CoinDesk.csv\", index_col=\"Date\", parse_dates=True, infer_datetime_format=True)\n",
    "eth_data  = pd.read_csv(\"ETH_USD_2017-01-01_2021-01-02-CoinDesk.csv\", index_col=\"Date\", parse_dates=True, infer_datetime_format=True)\n",
    "xlm_data = pd.read_csv(\"StellarXLM_USD_2020-01-29_2021-01-02-CoinDesk.csv\",index_col=\"Date\", parse_dates=True, infer_datetime_format=True)\n",
    "xrp_data = pd.read_csv(\"XRP_USD_2020-01-29_2021-01-02-CoinDesk.csv\",index_col=\"Date\", parse_dates=True, infer_datetime_format=True)\n",
    "teth_data = pd.read_csv(\"TetherUSDT_USD_2020-01-29_2021-01-02-CoinDesk.csv\",index_col=\"Date\", parse_dates=True, infer_datetime_format=True)"
   ]
  },
  {
   "cell_type": "code",
   "execution_count": 26,
   "metadata": {},
   "outputs": [],
   "source": [
    "#Filter data for closing prices\n",
    "btc_data = btc_data.rename(columns={'Closing Price (USD)':'BTC'})\n",
    "eth_data = eth_data.rename(columns={'Closing Price (USD)':'ETH'})\n",
    "xlm_data = xlm_data.rename(columns={'Closing Price (USD)':'XLM'})\n",
    "xrp_data = xrp_data.rename(columns={'Closing Price (USD)':'XRP'})\n",
    "teth_data = teth_data.rename(columns={'Closing Price (USD)':'Teth'})"
   ]
  },
  {
   "cell_type": "code",
   "execution_count": 27,
   "metadata": {},
   "outputs": [],
   "source": [
    "#Drop columns\n",
    "btc_data = btc_data.drop(columns= [\"Currency\", \"24h Open (USD)\", \"24h High (USD)\", \"24h Low (USD)\"])\n",
    "eth_data = eth_data.drop(columns= [\"Currency\", \"24h Open (USD)\", \"24h High (USD)\", \"24h Low (USD)\"])\n",
    "xlm_data = xlm_data.drop(columns= [\"Currency\", \"24h Open (USD)\", \"24h High (USD)\", \"24h Low (USD)\"])\n",
    "xrp_data = xrp_data.drop(columns= [\"Currency\", \"24h Open (USD)\", \"24h High (USD)\", \"24h Low (USD)\"])\n",
    "teth_data = teth_data.drop(columns= [\"Currency\", \"24h Open (USD)\", \"24h High (USD)\", \"24h Low (USD)\"])\n"
   ]
  },
  {
   "cell_type": "markdown",
   "metadata": {},
   "source": [
    "### Concatenate Crypto Data "
   ]
  },
  {
   "cell_type": "code",
   "execution_count": 28,
   "metadata": {},
   "outputs": [
    {
     "data": {
      "text/html": [
       "<div>\n",
       "<style scoped>\n",
       "    .dataframe tbody tr th:only-of-type {\n",
       "        vertical-align: middle;\n",
       "    }\n",
       "\n",
       "    .dataframe tbody tr th {\n",
       "        vertical-align: top;\n",
       "    }\n",
       "\n",
       "    .dataframe thead th {\n",
       "        text-align: right;\n",
       "    }\n",
       "</style>\n",
       "<table border=\"1\" class=\"dataframe\">\n",
       "  <thead>\n",
       "    <tr style=\"text-align: right;\">\n",
       "      <th></th>\n",
       "      <th>BTC</th>\n",
       "      <th>ETH</th>\n",
       "      <th>XLM</th>\n",
       "      <th>XRP</th>\n",
       "      <th>Teth</th>\n",
       "    </tr>\n",
       "    <tr>\n",
       "      <th>Date</th>\n",
       "      <th></th>\n",
       "      <th></th>\n",
       "      <th></th>\n",
       "      <th></th>\n",
       "      <th></th>\n",
       "    </tr>\n",
       "  </thead>\n",
       "  <tbody>\n",
       "    <tr>\n",
       "      <th>2020-01-29</th>\n",
       "      <td>9320.978406</td>\n",
       "      <td>175.460322</td>\n",
       "      <td>0.060939</td>\n",
       "      <td>0.236833</td>\n",
       "      <td>0.997697</td>\n",
       "    </tr>\n",
       "    <tr>\n",
       "      <th>2020-01-30</th>\n",
       "      <td>9545.077957</td>\n",
       "      <td>186.262041</td>\n",
       "      <td>0.062786</td>\n",
       "      <td>0.245716</td>\n",
       "      <td>0.997961</td>\n",
       "    </tr>\n",
       "    <tr>\n",
       "      <th>2020-01-31</th>\n",
       "      <td>9388.880752</td>\n",
       "      <td>181.728434</td>\n",
       "      <td>0.060894</td>\n",
       "      <td>0.239005</td>\n",
       "      <td>0.998550</td>\n",
       "    </tr>\n",
       "    <tr>\n",
       "      <th>2020-02-01</th>\n",
       "      <td>9363.193383</td>\n",
       "      <td>182.773989</td>\n",
       "      <td>0.062003</td>\n",
       "      <td>0.241345</td>\n",
       "      <td>0.998503</td>\n",
       "    </tr>\n",
       "    <tr>\n",
       "      <th>2020-02-02</th>\n",
       "      <td>9385.260386</td>\n",
       "      <td>189.312553</td>\n",
       "      <td>0.064519</td>\n",
       "      <td>0.252280</td>\n",
       "      <td>1.000383</td>\n",
       "    </tr>\n",
       "  </tbody>\n",
       "</table>\n",
       "</div>"
      ],
      "text/plain": [
       "                    BTC         ETH       XLM       XRP      Teth\n",
       "Date                                                             \n",
       "2020-01-29  9320.978406  175.460322  0.060939  0.236833  0.997697\n",
       "2020-01-30  9545.077957  186.262041  0.062786  0.245716  0.997961\n",
       "2020-01-31  9388.880752  181.728434  0.060894  0.239005  0.998550\n",
       "2020-02-01  9363.193383  182.773989  0.062003  0.241345  0.998503\n",
       "2020-02-02  9385.260386  189.312553  0.064519  0.252280  1.000383"
      ]
     },
     "execution_count": 28,
     "metadata": {},
     "output_type": "execute_result"
    }
   ],
   "source": [
    "combined_crypto = pd.concat ([btc_data, eth_data, xlm_data, xrp_data, teth_data],axis=\"columns\", join=\"inner\")\n",
    "combined_crypto.head()"
   ]
  },
  {
   "cell_type": "markdown",
   "metadata": {},
   "source": [
    "### Crypto Daily Returns"
   ]
  },
  {
   "cell_type": "code",
   "execution_count": 34,
   "metadata": {},
   "outputs": [
    {
     "data": {
      "text/html": [
       "<div>\n",
       "<style scoped>\n",
       "    .dataframe tbody tr th:only-of-type {\n",
       "        vertical-align: middle;\n",
       "    }\n",
       "\n",
       "    .dataframe tbody tr th {\n",
       "        vertical-align: top;\n",
       "    }\n",
       "\n",
       "    .dataframe thead th {\n",
       "        text-align: right;\n",
       "    }\n",
       "</style>\n",
       "<table border=\"1\" class=\"dataframe\">\n",
       "  <thead>\n",
       "    <tr style=\"text-align: right;\">\n",
       "      <th></th>\n",
       "      <th>BTC</th>\n",
       "      <th>ETH</th>\n",
       "      <th>XLM</th>\n",
       "      <th>XRP</th>\n",
       "      <th>Teth</th>\n",
       "    </tr>\n",
       "    <tr>\n",
       "      <th>Date</th>\n",
       "      <th></th>\n",
       "      <th></th>\n",
       "      <th></th>\n",
       "      <th></th>\n",
       "      <th></th>\n",
       "    </tr>\n",
       "  </thead>\n",
       "  <tbody>\n",
       "    <tr>\n",
       "      <th>2020-01-30</th>\n",
       "      <td>0.024042</td>\n",
       "      <td>0.061562</td>\n",
       "      <td>0.030324</td>\n",
       "      <td>0.037506</td>\n",
       "      <td>0.000265</td>\n",
       "    </tr>\n",
       "    <tr>\n",
       "      <th>2020-01-31</th>\n",
       "      <td>-0.016364</td>\n",
       "      <td>-0.024340</td>\n",
       "      <td>-0.030133</td>\n",
       "      <td>-0.027310</td>\n",
       "      <td>0.000590</td>\n",
       "    </tr>\n",
       "    <tr>\n",
       "      <th>2020-02-01</th>\n",
       "      <td>-0.002736</td>\n",
       "      <td>0.005753</td>\n",
       "      <td>0.018197</td>\n",
       "      <td>0.009788</td>\n",
       "      <td>-0.000048</td>\n",
       "    </tr>\n",
       "    <tr>\n",
       "      <th>2020-02-02</th>\n",
       "      <td>0.002357</td>\n",
       "      <td>0.035774</td>\n",
       "      <td>0.040578</td>\n",
       "      <td>0.045308</td>\n",
       "      <td>0.001883</td>\n",
       "    </tr>\n",
       "    <tr>\n",
       "      <th>2020-02-03</th>\n",
       "      <td>-0.012312</td>\n",
       "      <td>-0.000290</td>\n",
       "      <td>-0.009328</td>\n",
       "      <td>-0.002657</td>\n",
       "      <td>-0.000953</td>\n",
       "    </tr>\n",
       "  </tbody>\n",
       "</table>\n",
       "</div>"
      ],
      "text/plain": [
       "                 BTC       ETH       XLM       XRP      Teth\n",
       "Date                                                        \n",
       "2020-01-30  0.024042  0.061562  0.030324  0.037506  0.000265\n",
       "2020-01-31 -0.016364 -0.024340 -0.030133 -0.027310  0.000590\n",
       "2020-02-01 -0.002736  0.005753  0.018197  0.009788 -0.000048\n",
       "2020-02-02  0.002357  0.035774  0.040578  0.045308  0.001883\n",
       "2020-02-03 -0.012312 -0.000290 -0.009328 -0.002657 -0.000953"
      ]
     },
     "execution_count": 34,
     "metadata": {},
     "output_type": "execute_result"
    }
   ],
   "source": [
    "crypto_daily_returns = combined_crypto.pct_change().dropna()\n",
    "crypto_daily_returns.head()\n"
   ]
  },
  {
   "cell_type": "markdown",
   "metadata": {},
   "source": [
    "### Crypto Volatility Using Standard Deviation"
   ]
  },
  {
   "cell_type": "code",
   "execution_count": 49,
   "metadata": {},
   "outputs": [
    {
     "data": {
      "text/plain": [
       "XLM     0.054971\n",
       "XRP     0.054871\n",
       "ETH     0.047769\n",
       "BTC     0.035942\n",
       "Teth    0.001399\n",
       "dtype: float64"
      ]
     },
     "execution_count": 49,
     "metadata": {},
     "output_type": "execute_result"
    }
   ],
   "source": [
    "crypto_std = crypto_daily_returns.std()\n",
    "crypto_std_sorted = crypto_std.sort_values(ascending=False)\n",
    "crypto_std_sorted"
   ]
  },
  {
   "cell_type": "code",
   "execution_count": 51,
   "metadata": {},
   "outputs": [
    {
     "data": {},
     "metadata": {},
     "output_type": "display_data"
    },
    {
     "data": {
      "application/vnd.holoviews_exec.v0+json": "",
      "text/html": [
       "<div id='1937'>\n",
       "\n",
       "\n",
       "\n",
       "\n",
       "\n",
       "  <div class=\"bk-root\" id=\"4163c4cf-ff6d-45c5-9be8-2fe7a5c01940\" data-root-id=\"1937\"></div>\n",
       "</div>\n",
       "<script type=\"application/javascript\">(function(root) {\n",
       "  function embed_document(root) {\n",
       "    var docs_json = {\"f83d29c4-136f-4976-a669-3a6c802a4ca8\":{\"roots\":{\"references\":[{\"attributes\":{},\"id\":\"1958\",\"type\":\"SaveTool\"},{\"attributes\":{\"margin\":[5,5,5,5],\"name\":\"HSpacer02951\",\"sizing_mode\":\"stretch_width\"},\"id\":\"1999\",\"type\":\"Spacer\"},{\"attributes\":{},\"id\":\"1980\",\"type\":\"CategoricalTickFormatter\"},{\"attributes\":{\"fill_alpha\":{\"value\":0.2},\"fill_color\":{\"value\":\"#1f77b3\"},\"line_alpha\":{\"value\":0.2},\"top\":{\"field\":\"A_0\"},\"width\":{\"value\":0.8},\"x\":{\"field\":\"index\"}},\"id\":\"1976\",\"type\":\"VBar\"},{\"attributes\":{\"callback\":null,\"renderers\":[{\"id\":\"1977\"}],\"tags\":[\"hv_created\"],\"tooltips\":[[\"index\",\"@{index}\"],[\"0\",\"@{A_0}\"]]},\"id\":\"1941\",\"type\":\"HoverTool\"},{\"attributes\":{},\"id\":\"1959\",\"type\":\"PanTool\"},{\"attributes\":{},\"id\":\"1972\",\"type\":\"Selection\"},{\"attributes\":{\"below\":[{\"id\":\"1951\"}],\"center\":[{\"id\":\"1953\"},{\"id\":\"1957\"}],\"left\":[{\"id\":\"1954\"}],\"margin\":[5,5,5,5],\"min_border_bottom\":10,\"min_border_left\":10,\"min_border_right\":10,\"min_border_top\":10,\"plot_height\":300,\"plot_width\":700,\"renderers\":[{\"id\":\"1977\"}],\"sizing_mode\":\"fixed\",\"title\":{\"id\":\"1943\"},\"toolbar\":{\"id\":\"1964\"},\"x_range\":{\"id\":\"1939\"},\"x_scale\":{\"id\":\"1947\"},\"y_range\":{\"id\":\"1940\"},\"y_scale\":{\"id\":\"1949\"}},\"id\":\"1942\",\"subtype\":\"Figure\",\"type\":\"Plot\"},{\"attributes\":{},\"id\":\"1960\",\"type\":\"WheelZoomTool\"},{\"attributes\":{\"end\":0.060328581077639165,\"reset_end\":0.060328581077639165,\"reset_start\":0.0,\"tags\":[[[\"0\",\"0\",null]]]},\"id\":\"1940\",\"type\":\"Range1d\"},{\"attributes\":{\"overlay\":{\"id\":\"1963\"}},\"id\":\"1961\",\"type\":\"BoxZoomTool\"},{\"attributes\":{\"axis_label\":\"\",\"bounds\":\"auto\",\"formatter\":{\"id\":\"1980\"},\"major_label_orientation\":\"horizontal\",\"ticker\":{\"id\":\"1952\"}},\"id\":\"1951\",\"type\":\"CategoricalAxis\"},{\"attributes\":{\"children\":[{\"id\":\"1938\"},{\"id\":\"1942\"},{\"id\":\"1999\"}],\"margin\":[0,0,0,0],\"name\":\"Row02946\",\"tags\":[\"embedded\"]},\"id\":\"1937\",\"type\":\"Row\"},{\"attributes\":{\"margin\":[5,5,5,5],\"name\":\"HSpacer02950\",\"sizing_mode\":\"stretch_width\"},\"id\":\"1938\",\"type\":\"Spacer\"},{\"attributes\":{\"fill_alpha\":{\"value\":0.1},\"fill_color\":{\"value\":\"#1f77b3\"},\"line_alpha\":{\"value\":0.1},\"top\":{\"field\":\"A_0\"},\"width\":{\"value\":0.8},\"x\":{\"field\":\"index\"}},\"id\":\"1975\",\"type\":\"VBar\"},{\"attributes\":{},\"id\":\"1955\",\"type\":\"BasicTicker\"},{\"attributes\":{},\"id\":\"1962\",\"type\":\"ResetTool\"},{\"attributes\":{},\"id\":\"1988\",\"type\":\"UnionRenderers\"},{\"attributes\":{\"fill_color\":{\"value\":\"#1f77b3\"},\"top\":{\"field\":\"A_0\"},\"width\":{\"value\":0.8},\"x\":{\"field\":\"index\"}},\"id\":\"1974\",\"type\":\"VBar\"},{\"attributes\":{},\"id\":\"1947\",\"type\":\"CategoricalScale\"},{\"attributes\":{\"factors\":[\"XLM\",\"XRP\",\"ETH\",\"BTC\",\"Teth\"],\"tags\":[[[\"index\",\"index\",null]]]},\"id\":\"1939\",\"type\":\"FactorRange\"},{\"attributes\":{},\"id\":\"1949\",\"type\":\"LinearScale\"},{\"attributes\":{\"axis_label\":\"\",\"bounds\":\"auto\",\"formatter\":{\"id\":\"1982\"},\"major_label_orientation\":\"horizontal\",\"ticker\":{\"id\":\"1955\"}},\"id\":\"1954\",\"type\":\"LinearAxis\"},{\"attributes\":{\"text\":\"Volatility of Cryptocurrencies (Jan 2020 to Jan 2021)\",\"text_color\":{\"value\":\"black\"},\"text_font_size\":{\"value\":\"12pt\"}},\"id\":\"1943\",\"type\":\"Title\"},{\"attributes\":{\"data\":{\"A_0\":{\"__ndarray__\":\"XO4jYjMlrD+ijsxzHRisP6gBKDwfdag/5+vZggFnoj8uOy0WkOpWPw==\",\"dtype\":\"float64\",\"order\":\"little\",\"shape\":[5]},\"index\":[\"XLM\",\"XRP\",\"ETH\",\"BTC\",\"Teth\"]},\"selected\":{\"id\":\"1972\"},\"selection_policy\":{\"id\":\"1988\"}},\"id\":\"1971\",\"type\":\"ColumnDataSource\"},{\"attributes\":{},\"id\":\"1982\",\"type\":\"BasicTickFormatter\"},{\"attributes\":{},\"id\":\"1952\",\"type\":\"CategoricalTicker\"},{\"attributes\":{\"source\":{\"id\":\"1971\"}},\"id\":\"1978\",\"type\":\"CDSView\"},{\"attributes\":{\"axis\":{\"id\":\"1951\"},\"grid_line_color\":null,\"ticker\":null},\"id\":\"1953\",\"type\":\"Grid\"},{\"attributes\":{\"data_source\":{\"id\":\"1971\"},\"glyph\":{\"id\":\"1974\"},\"hover_glyph\":null,\"muted_glyph\":{\"id\":\"1976\"},\"nonselection_glyph\":{\"id\":\"1975\"},\"selection_glyph\":null,\"view\":{\"id\":\"1978\"}},\"id\":\"1977\",\"type\":\"GlyphRenderer\"},{\"attributes\":{\"bottom_units\":\"screen\",\"fill_alpha\":0.5,\"fill_color\":\"lightgrey\",\"left_units\":\"screen\",\"level\":\"overlay\",\"line_alpha\":1.0,\"line_color\":\"black\",\"line_dash\":[4,4],\"line_width\":2,\"right_units\":\"screen\",\"top_units\":\"screen\"},\"id\":\"1963\",\"type\":\"BoxAnnotation\"},{\"attributes\":{\"axis\":{\"id\":\"1954\"},\"dimension\":1,\"grid_line_color\":null,\"ticker\":null},\"id\":\"1957\",\"type\":\"Grid\"},{\"attributes\":{\"active_drag\":\"auto\",\"active_inspect\":\"auto\",\"active_multi\":null,\"active_scroll\":\"auto\",\"active_tap\":\"auto\",\"tools\":[{\"id\":\"1941\"},{\"id\":\"1958\"},{\"id\":\"1959\"},{\"id\":\"1960\"},{\"id\":\"1961\"},{\"id\":\"1962\"}]},\"id\":\"1964\",\"type\":\"Toolbar\"}],\"root_ids\":[\"1937\"]},\"title\":\"Bokeh Application\",\"version\":\"2.2.3\"}};\n",
       "    var render_items = [{\"docid\":\"f83d29c4-136f-4976-a669-3a6c802a4ca8\",\"root_ids\":[\"1937\"],\"roots\":{\"1937\":\"4163c4cf-ff6d-45c5-9be8-2fe7a5c01940\"}}];\n",
       "    root.Bokeh.embed.embed_items_notebook(docs_json, render_items);\n",
       "  }\n",
       "  if (root.Bokeh !== undefined && root.Bokeh.Panel !== undefined) {\n",
       "    embed_document(root);\n",
       "  } else {\n",
       "    var attempts = 0;\n",
       "    var timer = setInterval(function(root) {\n",
       "      if (root.Bokeh !== undefined && root.Bokeh.Panel !== undefined) {\n",
       "        clearInterval(timer);\n",
       "        embed_document(root);\n",
       "      } else if (document.readyState == \"complete\") {\n",
       "        attempts++;\n",
       "        if (attempts > 100) {\n",
       "          clearInterval(timer);\n",
       "          console.log(\"Bokeh: ERROR: Unable to run BokehJS code because BokehJS library is missing\");\n",
       "        }\n",
       "      }\n",
       "    }, 10, root)\n",
       "  }\n",
       "})(window);</script>"
      ],
      "text/plain": [
       ":Bars   [index]   (0)"
      ]
     },
     "execution_count": 51,
     "metadata": {
      "application/vnd.holoviews_exec.v0+json": {
       "id": "1937"
      }
     },
     "output_type": "execute_result"
    }
   ],
   "source": [
    "crypto_std_sorted.hvplot.bar(title = \"Volatility of Cryptocurrencies (Jan 2020 to Jan 2021)\")"
   ]
  },
  {
   "cell_type": "markdown",
   "metadata": {},
   "source": [
    "### Crypto Cumulative Returns "
   ]
  },
  {
   "cell_type": "code",
   "execution_count": 37,
   "metadata": {},
   "outputs": [
    {
     "data": {
      "text/html": [
       "<div>\n",
       "<style scoped>\n",
       "    .dataframe tbody tr th:only-of-type {\n",
       "        vertical-align: middle;\n",
       "    }\n",
       "\n",
       "    .dataframe tbody tr th {\n",
       "        vertical-align: top;\n",
       "    }\n",
       "\n",
       "    .dataframe thead th {\n",
       "        text-align: right;\n",
       "    }\n",
       "</style>\n",
       "<table border=\"1\" class=\"dataframe\">\n",
       "  <thead>\n",
       "    <tr style=\"text-align: right;\">\n",
       "      <th></th>\n",
       "      <th>BTC</th>\n",
       "      <th>ETH</th>\n",
       "      <th>XLM</th>\n",
       "      <th>XRP</th>\n",
       "      <th>Teth</th>\n",
       "    </tr>\n",
       "    <tr>\n",
       "      <th>Date</th>\n",
       "      <th></th>\n",
       "      <th></th>\n",
       "      <th></th>\n",
       "      <th></th>\n",
       "      <th></th>\n",
       "    </tr>\n",
       "  </thead>\n",
       "  <tbody>\n",
       "    <tr>\n",
       "      <th>2020-01-30</th>\n",
       "      <td>1.024042</td>\n",
       "      <td>1.061562</td>\n",
       "      <td>1.030324</td>\n",
       "      <td>1.037506</td>\n",
       "      <td>1.000265</td>\n",
       "    </tr>\n",
       "    <tr>\n",
       "      <th>2020-01-31</th>\n",
       "      <td>1.007285</td>\n",
       "      <td>1.035724</td>\n",
       "      <td>0.999277</td>\n",
       "      <td>1.009172</td>\n",
       "      <td>1.000855</td>\n",
       "    </tr>\n",
       "    <tr>\n",
       "      <th>2020-02-01</th>\n",
       "      <td>1.004529</td>\n",
       "      <td>1.041683</td>\n",
       "      <td>1.017461</td>\n",
       "      <td>1.019049</td>\n",
       "      <td>1.000807</td>\n",
       "    </tr>\n",
       "    <tr>\n",
       "      <th>2020-02-02</th>\n",
       "      <td>1.006896</td>\n",
       "      <td>1.078948</td>\n",
       "      <td>1.058748</td>\n",
       "      <td>1.065221</td>\n",
       "      <td>1.002692</td>\n",
       "    </tr>\n",
       "    <tr>\n",
       "      <th>2020-02-03</th>\n",
       "      <td>0.994499</td>\n",
       "      <td>1.078635</td>\n",
       "      <td>1.048872</td>\n",
       "      <td>1.062390</td>\n",
       "      <td>1.001736</td>\n",
       "    </tr>\n",
       "  </tbody>\n",
       "</table>\n",
       "</div>"
      ],
      "text/plain": [
       "                 BTC       ETH       XLM       XRP      Teth\n",
       "Date                                                        \n",
       "2020-01-30  1.024042  1.061562  1.030324  1.037506  1.000265\n",
       "2020-01-31  1.007285  1.035724  0.999277  1.009172  1.000855\n",
       "2020-02-01  1.004529  1.041683  1.017461  1.019049  1.000807\n",
       "2020-02-02  1.006896  1.078948  1.058748  1.065221  1.002692\n",
       "2020-02-03  0.994499  1.078635  1.048872  1.062390  1.001736"
      ]
     },
     "execution_count": 37,
     "metadata": {},
     "output_type": "execute_result"
    }
   ],
   "source": [
    "cumulative_returns = (1 + crypto_daily_returns).cumprod() \n",
    "cumulative_returns.head()"
   ]
  },
  {
   "cell_type": "code",
   "execution_count": 58,
   "metadata": {},
   "outputs": [
    {
     "data": {},
     "metadata": {},
     "output_type": "display_data"
    },
    {
     "data": {
      "application/vnd.holoviews_exec.v0+json": "",
      "text/html": [
       "<div id='3850'>\n",
       "\n",
       "\n",
       "\n",
       "\n",
       "\n",
       "  <div class=\"bk-root\" id=\"623450bc-4f24-4c68-96ba-1d4ce010be6c\" data-root-id=\"3850\"></div>\n",
       "</div>\n",
       "<script type=\"application/javascript\">(function(root) {\n",
       "  function embed_document(root) {\n",
       "    var docs_json = {\"92a57000-b03c-4948-b2b0-b3ef35dd11d3\":{\"roots\":{\"references\":[{\"attributes\":{\"data\":{\"Date\":{\"__ndarray__\":\"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\",\"dtype\":\"float64\",\"order\":\"little\",\"shape\":[339]},\"Variable\":[\"Teth\",\"Teth\",\"Teth\",\"Teth\",\"Teth\",\"Teth\",\"Teth\",\"Teth\",\"Teth\",\"Teth\",\"Teth\",\"Teth\",\"Teth\",\"Teth\",\"Teth\",\"Teth\",\"Teth\",\"Teth\",\"Teth\",\"Teth\",\"Teth\",\"Teth\",\"Teth\",\"Teth\",\"Teth\",\"Teth\",\"Teth\",\"Teth\",\"Teth\",\"Teth\",\"Teth\",\"Teth\",\"Teth\",\"Teth\",\"Teth\",\"Teth\",\"Teth\",\"Teth\",\"Teth\",\"Teth\",\"Teth\",\"Teth\",\"Teth\",\"Teth\",\"Teth\",\"Teth\",\"Teth\",\"Teth\",\"Teth\",\"Teth\",\"Teth\",\"Teth\",\"Teth\",\"Teth\",\"Teth\",\"Teth\",\"Teth\",\"Teth\",\"Teth\",\"Teth\",\"Teth\",\"Teth\",\"Teth\",\"Teth\",\"Teth\",\"Teth\",\"Teth\",\"Teth\",\"Teth\",\"Teth\",\"Teth\",\"Teth\",\"Teth\",\"Teth\",\"Teth\",\"Teth\",\"Teth\",\"Teth\",\"Teth\",\"Teth\",\"Teth\",\"Teth\",\"Teth\",\"Teth\",\"Teth\",\"Teth\",\"Teth\",\"Teth\",\"Teth\",\"Teth\",\"Teth\",\"Teth\",\"Teth\",\"Teth\",\"Teth\",\"Teth\",\"Teth\",\"Teth\",\"Teth\",\"Teth\",\"Teth\",\"Teth\",\"Teth\",\"Teth\",\"Teth\",\"Teth\",\"Teth\",\"Teth\",\"Teth\",\"Teth\",\"Teth\",\"Teth\",\"Teth\",\"Teth\",\"Teth\",\"Teth\",\"Teth\",\"Teth\",\"Teth\",\"Teth\",\"Teth\",\"Teth\",\"Teth\",\"Teth\",\"Teth\",\"Teth\",\"Teth\",\"Teth\",\"Teth\",\"Teth\",\"Teth\",\"Teth\",\"Teth\",\"Teth\",\"Teth\",\"Teth\",\"Teth\",\"Teth\",\"Teth\",\"Teth\",\"Teth\",\"Teth\",\"Teth\",\"Teth\",\"Teth\",\"Teth\",\"Teth\",\"Teth\",\"Teth\",\"Teth\",\"Teth\",\"Teth\",\"Teth\",\"Teth\",\"Teth\",\"Teth\",\"Teth\",\"Teth\",\"Teth\",\"Teth\",\"Teth\",\"Teth\",\"Teth\",\"Teth\",\"Teth\",\"Teth\",\"Teth\",\"Teth\",\"Teth\",\"Teth\",\"Teth\",\"Teth\",\"Teth\",\"Teth\",\"Teth\",\"Teth\",\"Teth\",\"Teth\",\"Teth\",\"Teth\",\"Teth\",\"Teth\",\"Teth\",\"Teth\",\"Teth\",\"Teth\",\"Teth\",\"Teth\",\"Teth\",\"Teth\",\"Teth\",\"Teth\",\"Teth\",\"Teth\",\"Teth\",\"Teth\",\"Teth\",\"Teth\",\"Teth\",\"Teth\",\"Teth\",\"Teth\",\"Teth\",\"Teth\",\"Teth\",\"Teth\",\"Teth\",\"Teth\",\"Teth\",\"Teth\",\"Teth\",\"Teth\",\"Teth\",\"Teth\",\"Teth\",\"Teth\",\"Teth\",\"Teth\",\"Teth\",\"Teth\",\"Teth\",\"Teth\",\"Teth\",\"Teth\",\"Teth\",\"Teth\",\"Teth\",\"Teth\",\"Teth\",\"Teth\",\"Teth\",\"Teth\",\"Teth\",\"Teth\",\"Teth\",\"Teth\",\"Teth\",\"Teth\",\"Teth\",\"Teth\",\"Teth\",\"Teth\",\"Teth\",\"Teth\",\"Teth\",\"Teth\",\"Teth\",\"Teth\",\"Teth\",\"Teth\",\"Teth\",\"Teth\",\"Teth\",\"Teth\",\"Teth\",\"Teth\",\"Teth\",\"Teth\",\"Teth\",\"Teth\",\"Teth\",\"Teth\",\"Teth\",\"Teth\",\"Teth\",\"Teth\",\"Teth\",\"Teth\",\"Teth\",\"Teth\",\"Teth\",\"Teth\",\"Teth\",\"Teth\",\"Teth\",\"Teth\",\"Teth\",\"Teth\",\"Teth\",\"Teth\",\"Teth\",\"Teth\",\"Teth\",\"Teth\",\"Teth\",\"Teth\",\"Teth\",\"Teth\",\"Teth\",\"Teth\",\"Teth\",\"Teth\",\"Teth\",\"Teth\",\"Teth\",\"Teth\",\"Teth\",\"Teth\",\"Teth\",\"Teth\",\"Teth\",\"Teth\",\"Teth\",\"Teth\",\"Teth\",\"Teth\",\"Teth\",\"Teth\",\"Teth\",\"Teth\",\"Teth\",\"Teth\",\"Teth\",\"Teth\",\"Teth\",\"Teth\",\"Teth\",\"Teth\",\"Teth\",\"Teth\",\"Teth\",\"Teth\",\"Teth\",\"Teth\",\"Teth\",\"Teth\",\"Teth\",\"Teth\",\"Teth\",\"Teth\",\"Teth\",\"Teth\",\"Teth\",\"Teth\",\"Teth\",\"Teth\",\"Teth\",\"Teth\",\"Teth\"],\"value\":{\"__ndarray__\":\"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\",\"dtype\":\"float64\",\"order\":\"little\",\"shape\":[339]}},\"selected\":{\"id\":\"4023\"},\"selection_policy\":{\"id\":\"4043\"}},\"id\":\"4022\",\"type\":\"ColumnDataSource\"},{\"attributes\":{\"source\":{\"id\":\"3923\"}},\"id\":\"3930\",\"type\":\"CDSView\"},{\"attributes\":{\"data_source\":{\"id\":\"3954\"},\"glyph\":{\"id\":\"3957\"},\"hover_glyph\":null,\"muted_glyph\":{\"id\":\"3959\"},\"nonselection_glyph\":{\"id\":\"3958\"},\"selection_glyph\":null,\"view\":{\"id\":\"3961\"}},\"id\":\"3960\",\"type\":\"GlyphRenderer\"},{\"attributes\":{\"children\":[{\"id\":\"3851\"},{\"id\":\"3859\"},{\"id\":\"4311\"}],\"margin\":[0,0,0,0],\"name\":\"Row05984\",\"tags\":[\"embedded\"]},\"id\":\"3850\",\"type\":\"Row\"},{\"attributes\":{\"line_alpha\":0.1,\"line_color\":\"#ff7e0e\",\"line_width\":2,\"x\":{\"field\":\"Date\"},\"y\":{\"field\":\"value\"}},\"id\":\"3927\",\"type\":\"Line\"},{\"attributes\":{\"label\":{\"value\":\"XLM\"},\"renderers\":[{\"id\":\"3960\"}]},\"id\":\"3986\",\"type\":\"LegendItem\"},{\"attributes\":{\"end\":4.783504879086638,\"reset_end\":4.783504879086638,\"reset_start\":0.14385421499377526,\"start\":0.14385421499377526,\"tags\":[[[\"value\",\"value\",null]]]},\"id\":\"3853\",\"type\":\"Range1d\"},{\"attributes\":{\"data_source\":{\"id\":\"3923\"},\"glyph\":{\"id\":\"3926\"},\"hover_glyph\":null,\"muted_glyph\":{\"id\":\"3928\"},\"nonselection_glyph\":{\"id\":\"3927\"},\"selection_glyph\":null,\"view\":{\"id\":\"3930\"}},\"id\":\"3929\",\"type\":\"GlyphRenderer\"},{\"attributes\":{},\"id\":\"4023\",\"type\":\"Selection\"},{\"attributes\":{\"margin\":[5,5,5,5],\"name\":\"HSpacer05988\",\"sizing_mode\":\"stretch_width\"},\"id\":\"3851\",\"type\":\"Spacer\"},{\"attributes\":{\"bottom_units\":\"screen\",\"fill_alpha\":0.5,\"fill_color\":\"lightgrey\",\"left_units\":\"screen\",\"level\":\"overlay\",\"line_alpha\":1.0,\"line_color\":\"black\",\"line_dash\":[4,4],\"line_width\":2,\"right_units\":\"screen\",\"top_units\":\"screen\"},\"id\":\"3881\",\"type\":\"BoxAnnotation\"},{\"attributes\":{\"source\":{\"id\":\"3954\"}},\"id\":\"3961\",\"type\":\"CDSView\"},{\"attributes\":{\"line_color\":\"#ff7e0e\",\"line_width\":2,\"x\":{\"field\":\"Date\"},\"y\":{\"field\":\"value\"}},\"id\":\"3926\",\"type\":\"Line\"},{\"attributes\":{\"line_alpha\":0.2,\"line_color\":\"#2ba02b\",\"line_width\":2,\"x\":{\"field\":\"Date\"},\"y\":{\"field\":\"value\"}},\"id\":\"3959\",\"type\":\"Line\"},{\"attributes\":{\"active_drag\":\"auto\",\"active_inspect\":\"auto\",\"active_multi\":null,\"active_scroll\":\"auto\",\"active_tap\":\"auto\",\"tools\":[{\"id\":\"3854\"},{\"id\":\"3876\"},{\"id\":\"3877\"},{\"id\":\"3878\"},{\"id\":\"3879\"},{\"id\":\"3880\"}]},\"id\":\"3882\",\"type\":\"Toolbar\"},{\"attributes\":{\"line_alpha\":0.1,\"line_color\":\"#2ba02b\",\"line_width\":2,\"x\":{\"field\":\"Date\"},\"y\":{\"field\":\"value\"}},\"id\":\"3958\",\"type\":\"Line\"},{\"attributes\":{\"source\":{\"id\":\"3893\"}},\"id\":\"3900\",\"type\":\"CDSView\"},{\"attributes\":{},\"id\":\"3890\",\"type\":\"DatetimeTickFormatter\"},{\"attributes\":{\"below\":[{\"id\":\"3868\"}],\"center\":[{\"id\":\"3871\"},{\"id\":\"3875\"}],\"left\":[{\"id\":\"3872\"}],\"margin\":[5,5,5,5],\"min_border_bottom\":10,\"min_border_left\":10,\"min_border_right\":10,\"min_border_top\":10,\"plot_height\":300,\"plot_width\":700,\"renderers\":[{\"id\":\"3899\"},{\"id\":\"3929\"},{\"id\":\"3960\"},{\"id\":\"3993\"},{\"id\":\"4028\"}],\"right\":[{\"id\":\"3921\"}],\"sizing_mode\":\"fixed\",\"title\":{\"id\":\"3860\"},\"toolbar\":{\"id\":\"3882\"},\"x_range\":{\"id\":\"3852\"},\"x_scale\":{\"id\":\"3864\"},\"y_range\":{\"id\":\"3853\"},\"y_scale\":{\"id\":\"3866\"}},\"id\":\"3859\",\"subtype\":\"Figure\",\"type\":\"Plot\"},{\"attributes\":{\"mantissas\":[1,2,5],\"max_interval\":500.0,\"num_minor_ticks\":0},\"id\":\"3908\",\"type\":\"AdaptiveTicker\"},{\"attributes\":{\"base\":60,\"mantissas\":[1,2,5,10,15,20,30],\"max_interval\":1800000.0,\"min_interval\":1000.0,\"num_minor_ticks\":0},\"id\":\"3909\",\"type\":\"AdaptiveTicker\"},{\"attributes\":{\"line_color\":\"#2ba02b\",\"line_width\":2,\"x\":{\"field\":\"Date\"},\"y\":{\"field\":\"value\"}},\"id\":\"3957\",\"type\":\"Line\"},{\"attributes\":{},\"id\":\"3880\",\"type\":\"ResetTool\"},{\"attributes\":{},\"id\":\"3971\",\"type\":\"UnionRenderers\"},{\"attributes\":{},\"id\":\"3892\",\"type\":\"BasicTickFormatter\"},{\"attributes\":{\"overlay\":{\"id\":\"3881\"}},\"id\":\"3879\",\"type\":\"BoxZoomTool\"},{\"attributes\":{},\"id\":\"3877\",\"type\":\"PanTool\"},{\"attributes\":{},\"id\":\"3906\",\"type\":\"UnionRenderers\"},{\"attributes\":{\"line_alpha\":0.1,\"line_color\":\"#d62628\",\"line_width\":2,\"x\":{\"field\":\"Date\"},\"y\":{\"field\":\"value\"}},\"id\":\"3991\",\"type\":\"Line\"},{\"attributes\":{},\"id\":\"3878\",\"type\":\"WheelZoomTool\"},{\"attributes\":{\"base\":24,\"mantissas\":[1,2,4,6,8,12],\"max_interval\":43200000.0,\"min_interval\":3600000.0,\"num_minor_ticks\":0},\"id\":\"3910\",\"type\":\"AdaptiveTicker\"},{\"attributes\":{},\"id\":\"3876\",\"type\":\"SaveTool\"},{\"attributes\":{\"months\":[0,4,8]},\"id\":\"3917\",\"type\":\"MonthsTicker\"},{\"attributes\":{\"label\":{\"value\":\"ETH\"},\"renderers\":[{\"id\":\"3929\"}]},\"id\":\"3953\",\"type\":\"LegendItem\"},{\"attributes\":{\"line_alpha\":0.2,\"line_color\":\"#9367bc\",\"line_width\":2,\"x\":{\"field\":\"Date\"},\"y\":{\"field\":\"value\"}},\"id\":\"4027\",\"type\":\"Line\"},{\"attributes\":{\"source\":{\"id\":\"4022\"}},\"id\":\"4029\",\"type\":\"CDSView\"},{\"attributes\":{\"days\":[1,2,3,4,5,6,7,8,9,10,11,12,13,14,15,16,17,18,19,20,21,22,23,24,25,26,27,28,29,30,31]},\"id\":\"3911\",\"type\":\"DaysTicker\"},{\"attributes\":{\"data_source\":{\"id\":\"4022\"},\"glyph\":{\"id\":\"4025\"},\"hover_glyph\":null,\"muted_glyph\":{\"id\":\"4027\"},\"nonselection_glyph\":{\"id\":\"4026\"},\"selection_glyph\":null,\"view\":{\"id\":\"4029\"}},\"id\":\"4028\",\"type\":\"GlyphRenderer\"},{\"attributes\":{\"line_color\":\"#d62628\",\"line_width\":2,\"x\":{\"field\":\"Date\"},\"y\":{\"field\":\"value\"}},\"id\":\"3990\",\"type\":\"Line\"},{\"attributes\":{\"days\":[1,4,7,10,13,16,19,22,25,28]},\"id\":\"3912\",\"type\":\"DaysTicker\"},{\"attributes\":{\"axis_label\":\"\",\"bounds\":\"auto\",\"formatter\":{\"id\":\"3892\"},\"major_label_orientation\":\"horizontal\",\"ticker\":{\"id\":\"3873\"}},\"id\":\"3872\",\"type\":\"LinearAxis\"},{\"attributes\":{\"days\":[1,8,15,22]},\"id\":\"3913\",\"type\":\"DaysTicker\"},{\"attributes\":{},\"id\":\"3864\",\"type\":\"LinearScale\"},{\"attributes\":{\"line_alpha\":0.1,\"line_color\":\"#9367bc\",\"line_width\":2,\"x\":{\"field\":\"Date\"},\"y\":{\"field\":\"value\"}},\"id\":\"4026\",\"type\":\"Line\"},{\"attributes\":{\"months\":[0,2,4,6,8,10]},\"id\":\"3916\",\"type\":\"MonthsTicker\"},{\"attributes\":{\"days\":[1,15]},\"id\":\"3914\",\"type\":\"DaysTicker\"},{\"attributes\":{\"axis\":{\"id\":\"3872\"},\"dimension\":1,\"grid_line_color\":null,\"ticker\":null},\"id\":\"3875\",\"type\":\"Grid\"},{\"attributes\":{\"source\":{\"id\":\"3987\"}},\"id\":\"3994\",\"type\":\"CDSView\"},{\"attributes\":{},\"id\":\"3988\",\"type\":\"Selection\"},{\"attributes\":{\"data_source\":{\"id\":\"3893\"},\"glyph\":{\"id\":\"3896\"},\"hover_glyph\":null,\"muted_glyph\":{\"id\":\"3898\"},\"nonselection_glyph\":{\"id\":\"3897\"},\"selection_glyph\":null,\"view\":{\"id\":\"3900\"}},\"id\":\"3899\",\"type\":\"GlyphRenderer\"},{\"attributes\":{\"data_source\":{\"id\":\"3987\"},\"glyph\":{\"id\":\"3990\"},\"hover_glyph\":null,\"muted_glyph\":{\"id\":\"3992\"},\"nonselection_glyph\":{\"id\":\"3991\"},\"selection_glyph\":null,\"view\":{\"id\":\"3994\"}},\"id\":\"3993\",\"type\":\"GlyphRenderer\"},{\"attributes\":{},\"id\":\"3866\",\"type\":\"LinearScale\"},{\"attributes\":{\"months\":[0,6]},\"id\":\"3918\",\"type\":\"MonthsTicker\"},{\"attributes\":{},\"id\":\"3955\",\"type\":\"Selection\"},{\"attributes\":{\"line_alpha\":0.2,\"line_color\":\"#d62628\",\"line_width\":2,\"x\":{\"field\":\"Date\"},\"y\":{\"field\":\"value\"}},\"id\":\"3992\",\"type\":\"Line\"},{\"attributes\":{},\"id\":\"3873\",\"type\":\"BasicTicker\"},{\"attributes\":{\"click_policy\":\"mute\",\"items\":[{\"id\":\"3922\"},{\"id\":\"3953\"},{\"id\":\"3986\"},{\"id\":\"4021\"},{\"id\":\"4058\"}],\"location\":[0,0],\"title\":\"Variable\"},\"id\":\"3921\",\"type\":\"Legend\"},{\"attributes\":{\"data\":{\"Date\":{\"__ndarray__\":\"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\",\"dtype\":\"float64\",\"order\":\"little\",\"shape\":[339]},\"Variable\":[\"BTC\",\"BTC\",\"BTC\",\"BTC\",\"BTC\",\"BTC\",\"BTC\",\"BTC\",\"BTC\",\"BTC\",\"BTC\",\"BTC\",\"BTC\",\"BTC\",\"BTC\",\"BTC\",\"BTC\",\"BTC\",\"BTC\",\"BTC\",\"BTC\",\"BTC\",\"BTC\",\"BTC\",\"BTC\",\"BTC\",\"BTC\",\"BTC\",\"BTC\",\"BTC\",\"BTC\",\"BTC\",\"BTC\",\"BTC\",\"BTC\",\"BTC\",\"BTC\",\"BTC\",\"BTC\",\"BTC\",\"BTC\",\"BTC\",\"BTC\",\"BTC\",\"BTC\",\"BTC\",\"BTC\",\"BTC\",\"BTC\",\"BTC\",\"BTC\",\"BTC\",\"BTC\",\"BTC\",\"BTC\",\"BTC\",\"BTC\",\"BTC\",\"BTC\",\"BTC\",\"BTC\",\"BTC\",\"BTC\",\"BTC\",\"BTC\",\"BTC\",\"BTC\",\"BTC\",\"BTC\",\"BTC\",\"BTC\",\"BTC\",\"BTC\",\"BTC\",\"BTC\",\"BTC\",\"BTC\",\"BTC\",\"BTC\",\"BTC\",\"BTC\",\"BTC\",\"BTC\",\"BTC\",\"BTC\",\"BTC\",\"BTC\",\"BTC\",\"BTC\",\"BTC\",\"BTC\",\"BTC\",\"BTC\",\"BTC\",\"BTC\",\"BTC\",\"BTC\",\"BTC\",\"BTC\",\"BTC\",\"BTC\",\"BTC\",\"BTC\",\"BTC\",\"BTC\",\"BTC\",\"BTC\",\"BTC\",\"BTC\",\"BTC\",\"BTC\",\"BTC\",\"BTC\",\"BTC\",\"BTC\",\"BTC\",\"BTC\",\"BTC\",\"BTC\",\"BTC\",\"BTC\",\"BTC\",\"BTC\",\"BTC\",\"BTC\",\"BTC\",\"BTC\",\"BTC\",\"BTC\",\"BTC\",\"BTC\",\"BTC\",\"BTC\",\"BTC\",\"BTC\",\"BTC\",\"BTC\",\"BTC\",\"BTC\",\"BTC\",\"BTC\",\"BTC\",\"BTC\",\"BTC\",\"BTC\",\"BTC\",\"BTC\",\"BTC\",\"BTC\",\"BTC\",\"BTC\",\"BTC\",\"BTC\",\"BTC\",\"BTC\",\"BTC\",\"BTC\",\"BTC\",\"BTC\",\"BTC\",\"BTC\",\"BTC\",\"BTC\",\"BTC\",\"BTC\",\"BTC\",\"BTC\",\"BTC\",\"BTC\",\"BTC\",\"BTC\",\"BTC\",\"BTC\",\"BTC\",\"BTC\",\"BTC\",\"BTC\",\"BTC\",\"BTC\",\"BTC\",\"BTC\",\"BTC\",\"BTC\",\"BTC\",\"BTC\",\"BTC\",\"BTC\",\"BTC\",\"BTC\",\"BTC\",\"BTC\",\"BTC\",\"BTC\",\"BTC\",\"BTC\",\"BTC\",\"BTC\",\"BTC\",\"BTC\",\"BTC\",\"BTC\",\"BTC\",\"BTC\",\"BTC\",\"BTC\",\"BTC\",\"BTC\",\"BTC\",\"BTC\",\"BTC\",\"BTC\",\"BTC\",\"BTC\",\"BTC\",\"BTC\",\"BTC\",\"BTC\",\"BTC\",\"BTC\",\"BTC\",\"BTC\",\"BTC\",\"BTC\",\"BTC\",\"BTC\",\"BTC\",\"BTC\",\"BTC\",\"BTC\",\"BTC\",\"BTC\",\"BTC\",\"BTC\",\"BTC\",\"BTC\",\"BTC\",\"BTC\",\"BTC\",\"BTC\",\"BTC\",\"BTC\",\"BTC\",\"BTC\",\"BTC\",\"BTC\",\"BTC\",\"BTC\",\"BTC\",\"BTC\",\"BTC\",\"BTC\",\"BTC\",\"BTC\",\"BTC\",\"BTC\",\"BTC\",\"BTC\",\"BTC\",\"BTC\",\"BTC\",\"BTC\",\"BTC\",\"BTC\",\"BTC\",\"BTC\",\"BTC\",\"BTC\",\"BTC\",\"BTC\",\"BTC\",\"BTC\",\"BTC\",\"BTC\",\"BTC\",\"BTC\",\"BTC\",\"BTC\",\"BTC\",\"BTC\",\"BTC\",\"BTC\",\"BTC\",\"BTC\",\"BTC\",\"BTC\",\"BTC\",\"BTC\",\"BTC\",\"BTC\",\"BTC\",\"BTC\",\"BTC\",\"BTC\",\"BTC\",\"BTC\",\"BTC\",\"BTC\",\"BTC\",\"BTC\",\"BTC\",\"BTC\",\"BTC\",\"BTC\",\"BTC\",\"BTC\",\"BTC\",\"BTC\",\"BTC\",\"BTC\",\"BTC\",\"BTC\",\"BTC\",\"BTC\",\"BTC\",\"BTC\",\"BTC\",\"BTC\",\"BTC\",\"BTC\",\"BTC\",\"BTC\",\"BTC\",\"BTC\",\"BTC\",\"BTC\",\"BTC\",\"BTC\",\"BTC\",\"BTC\",\"BTC\",\"BTC\",\"BTC\",\"BTC\",\"BTC\",\"BTC\",\"BTC\",\"BTC\",\"BTC\",\"BTC\"],\"value\":{\"__ndarray__\":\"okpZYXpi8D9MyAPE1h3wPxYh0geNEvA/UEfcfD8c8D9MIfZQ8NLvPy8trzI/gu8/F9gisMyF8D8MRBqSX57wP7yrHGd00PA/IlTfw6YK8T8xDoBxtGTxP7tVuUmY4/A/RglYCWCS8T8cmCBSwMrxP8aJ2t46ivE/svjvAOXL8T9feLWBBgrxP2VlQlUA9PA/kih3/LSK8D+T6wZN4X3xP64bYDkDp/A/XYrJ2XKI8D+o5r4/wJnwP40Mo9fCofA/6cd7RwkH8T95n66UZYzwP75b73+XH/A/EvUG444r7j8LMjG77yjuP8FwhrAzI+4/pb+m6CSp7T95ZAbgelntP1Jl38FDou4/dRz+8U8u7j9XgY04TBDuP+htA9v1Ku8/mVd4kDJV7z+3pV7JK6TuPyiWDO0wCew/kUn0XtIJ6z9pj+gsMFPrP6dnn8G9T+s/253Vmazp4z/casPMl3njP0QfifayNeI/lyF9Ao5i4j95VIzgyfngP7AblyCUw+I/9I317SRq4j9aXKQz3aHlP4KE9L4aPOU/jeby3Kk95T+/7iaDnTPkPwLmqhyOKeY/dHWd9JVK5z/EAAWdngbnPwGgVFNfE+c/884EqFjx5j+SGRFW9WLlP8yVkeokVeQ/+3zA+WlC5j/ctRutnSHmP0KzkOmEceY/DiD7oM2E5z+Av2u7mUPnPy1wKd2Giec/on1/wxRd5z8cA2+vr/zoP+CKZbmIoug/77XeJ/NK6T+AXDA2+yLpP3QjO2W5kuc/b/zrqEWZ5z9+aMBAUi7oP1Jb6vpYp+c/yfKjgFGl5z9GB+neABHnP8kaBL6Mmug/e8tQ41dB6D9ejJFut/voP3ZBIUmAq+g/eiRc07aJ5z8oDcqSMLTnP8gO020xcOg/nO3FGhr26T/kcFsVtL3pP3v+dyDD5Ok/gxkqXFAt6j9UNrpYmbLqPxwr1/uipeo/Oh7Z0nwe7j9pzGo+thnuP3Vsc4hiZe4/xEX6bG7F7j/b2auCJ5LuPzXWdNoHg+4/KHfFK9DS7j9AKoI5SBbwP6ffzS6+/vA/ShdGMgYG8T/uUW2kT4LwP56aPy5lKu4/pKIEQH2N7T8j/AKWgkPuPzdcS99lBPA/2dhHM7y/8D88w/VGThLwP/rUgegJK/A/iK35kdWf8D95uWd59rDwPzFOnBEer/A/zx093aJg8D+9HxAR9GHvP3N5bPNij+8/jNDBq1Gn7z/aRDTAthDvP/EFQ8EXk+4/j0UNCIZV7j/Wo5WxMUnvPwuKrsX5UfA/+HshwtUt8D8PVpkUbaHwP5qQfGziLvA/0UNX8Gmg8T+D+wp0wlXwP86/xv8UmPA/4vlX737X8D9nll2W1JTwP/PnWN14nPA/wwmsfgS38D/w/7gY9M7wP3Iw0DRpzPA/rWR5snHz8D/E03ukI8vvP5HtChHzPvA/B939pYA88D+xFUicnA3wP7cq8X8UNfA/g1HCjlpT8D85LcZ5DDzwP7HIheEgIvA/8i0DVcbb7z+xsOkbGw7wP4PEKJr84+8/qclXKi+e8D9/j9Hm3X7wP/WTJ5pZ9+8/EOXr3e7D7z8SJUGr1HzvP0NFFqRe+e4/xcYzuWk/7z973sejLovvP6SgjDZdaO8/gJQ4wJe17z9fhMnl2TvvP015sorMOO8/bJzNVnRT7z+76eZOpRbvP1x/a2/v2u8/hw0B+rW87z/QcApgQkLwP2WJ+7Vwte8/iexV3J677z/bizb46q/vP9fAgfHn4e8/SZ2DDfK37z9+j39F0srvP/gbHJxdn+8/ZmgsPXlb7z/5TF9q4XLvP+GF6Vkvge8/+ZvJ6B+N7z8/03dRlX3vP3SRnWiOIPA/zu4QIzNc8D/jvvPaP4LwP5AA8q36bPA/eGgXSn2q8D8wytmujw/xP16mLVNYNPM/G2pJ51DH8j8aPGVj1F7zP0/Bwa0VFvM/E55qnuCF8z+wiTosxDL0P6kT89nzHvM/pSYgDOBU8z/VRIPrB0bzPyqGy8H1APQ/bzY/1fo/9D8swr8vCvvzPxvjeq0rKfQ/eXsfsp8J9D9peXlSik/0PwOodw9+d/M/tnFfvlHT8z+V6zYEXCz0P4U8C1AIOvQ/zb/UjGZr9D8lr/AR+2v0PzAW0cOmSPU/3I11gMq49D9H0fTeVCv0P+2BFDJGUPQ/3e2hyhTi8z9Hpt6QSAr0Pzsjr36sBvQ/1e01gMYo9D+fugUWQYjzP45DMahzq/M/2xvTS5dm8z9xGklrvLXzP3d1aGgoxPM/onZFVYoC9D/3rLlN7gv0P08NRL6JifQ/fKuOxcad8z9Obv9prGPyPz4CrMovIvI/2do1djg98T+TMlNAnoXxP8KPI90n0vE/gRmY41498T9U2KpRXKDxP3lBvH8+wPE/5gPRwpzR8T9OJfD1JOrxP749pIT2s/E/lfStb1ZV8j9b6yTD55byP1ilFFF/8PI/f+XdCTHG8j9Cuw5Ky8TyP9+UOohO9/I/CLlluDCh8j/Ja0NZnxHyPzV534TNE/I/Gg7wNaic8T9B7NugHFLyPyMj+RzFavI/ejjv1jhw8j9Eu3OP/3TyPwTBvS+npfI/JD40pT568j/0TJlvRHDyP8AstsO9PfI/m/M/BbIj8j9WThYlSh7yP8pOZsqvTPI/oR6/Msh28j8moOVCfi3yP1W9GYAoRvI/I0sCp9O08j8uPSMM2vjyPxqsVWdmgPM/f55clJx08z/UklEslgb0P1o58BvSpPM/klvGbKWP8z8HuAS2i7/zP9xUEgvmffM/K6XU8nR/8z8ce2TbzbDzP38cYqoXN/Q/nK11Mk199D9J9W078H32PyHlAUOFjvY/jlne358z9j8ny4tYmHT2P0bEK3FrVPY/iabd1m9f9j9C2WQYqo33P+wqJ729zPY/7lDsmD4e9z/uO+bQ0Ez3P5PlGB5X2Pc/+vKHApWR9z+w6+s2LWf3P2eZCQK7vvc/lItanjNQ+D/jlpj7Inr6PwMhtk8krfo/F2E95qdg+T8Uqxvycpv6P8UZNWZJPPo/IJwOzPNj+j/MjeziIyj7P5t7zv5V5vs/SPv3zIYP/D+TMcHCbnP7PzENW9QFU/s/aCdvGnvB/D+I3KfpQjP+P6qea2s7nf4/yRBq5Q/S/j+1UGDqN/P/Pzbx5ej76f8/Rz93Zr76/z/sSvqKFbT/PyZQFt63WABA4QEA0hAXAEAHM6dh0ID9P4oyKW79OP0/BlbZqYGU/j9W8bRmLRj/P0Ka61uuogBAQgqQSn1KAEArD+FwS3cAQPRulVW8tABAWe5c4pslAEAIBT6Vj1gAQJ+h9tGzZwBAqQUXkU9mAEBAsr8b5ggAQFjraIOE1P8/rno4At6D/z98yQAiPiL/P9127p/MNABA3JuOvelbAECE1IEq3oUAQE+7XgIcsABAjo51d11KAkAVaV/RsKYDQJpx35x5vwNAUnM7HEeBBECQkeMJnjMEQGT5TyJ/5ANAsh/AluYcBEBDWHMZ3e4DQGb/qGKgRgRAbA0JrOwYBUAb7pyye6QGQNUV71g9pgZAnz6VU3juBkC4u3d8FycHQMCBLXUSsQhArKsF4l38CEBYBkmtKS0JQPzj6CXlmAtA\",\"dtype\":\"float64\",\"order\":\"little\",\"shape\":[339]}},\"selected\":{\"id\":\"3894\"},\"selection_policy\":{\"id\":\"3906\"}},\"id\":\"3893\",\"type\":\"ColumnDataSource\"},{\"attributes\":{},\"id\":\"3924\",\"type\":\"Selection\"},{\"attributes\":{\"data\":{\"Date\":{\"__ndarray__\":\"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\",\"dtype\":\"float64\",\"order\":\"little\",\"shape\":[339]},\"Variable\":[\"ETH\",\"ETH\",\"ETH\",\"ETH\",\"ETH\",\"ETH\",\"ETH\",\"ETH\",\"ETH\",\"ETH\",\"ETH\",\"ETH\",\"ETH\",\"ETH\",\"ETH\",\"ETH\",\"ETH\",\"ETH\",\"ETH\",\"ETH\",\"ETH\",\"ETH\",\"ETH\",\"ETH\",\"ETH\",\"ETH\",\"ETH\",\"ETH\",\"ETH\",\"ETH\",\"ETH\",\"ETH\",\"ETH\",\"ETH\",\"ETH\",\"ETH\",\"ETH\",\"ETH\",\"ETH\",\"ETH\",\"ETH\",\"ETH\",\"ETH\",\"ETH\",\"ETH\",\"ETH\",\"ETH\",\"ETH\",\"ETH\",\"ETH\",\"ETH\",\"ETH\",\"ETH\",\"ETH\",\"ETH\",\"ETH\",\"ETH\",\"ETH\",\"ETH\",\"ETH\",\"ETH\",\"ETH\",\"ETH\",\"ETH\",\"ETH\",\"ETH\",\"ETH\",\"ETH\",\"ETH\",\"ETH\",\"ETH\",\"ETH\",\"ETH\",\"ETH\",\"ETH\",\"ETH\",\"ETH\",\"ETH\",\"ETH\",\"ETH\",\"ETH\",\"ETH\",\"ETH\",\"ETH\",\"ETH\",\"ETH\",\"ETH\",\"ETH\",\"ETH\",\"ETH\",\"ETH\",\"ETH\",\"ETH\",\"ETH\",\"ETH\",\"ETH\",\"ETH\",\"ETH\",\"ETH\",\"ETH\",\"ETH\",\"ETH\",\"ETH\",\"ETH\",\"ETH\",\"ETH\",\"ETH\",\"ETH\",\"ETH\",\"ETH\",\"ETH\",\"ETH\",\"ETH\",\"ETH\",\"ETH\",\"ETH\",\"ETH\",\"ETH\",\"ETH\",\"ETH\",\"ETH\",\"ETH\",\"ETH\",\"ETH\",\"ETH\",\"ETH\",\"ETH\",\"ETH\",\"ETH\",\"ETH\",\"ETH\",\"ETH\",\"ETH\",\"ETH\",\"ETH\",\"ETH\",\"ETH\",\"ETH\",\"ETH\",\"ETH\",\"ETH\",\"ETH\",\"ETH\",\"ETH\",\"ETH\",\"ETH\",\"ETH\",\"ETH\",\"ETH\",\"ETH\",\"ETH\",\"ETH\",\"ETH\",\"ETH\",\"ETH\",\"ETH\",\"ETH\",\"ETH\",\"ETH\",\"ETH\",\"ETH\",\"ETH\",\"ETH\",\"ETH\",\"ETH\",\"ETH\",\"ETH\",\"ETH\",\"ETH\",\"ETH\",\"ETH\",\"ETH\",\"ETH\",\"ETH\",\"ETH\",\"ETH\",\"ETH\",\"ETH\",\"ETH\",\"ETH\",\"ETH\",\"ETH\",\"ETH\",\"ETH\",\"ETH\",\"ETH\",\"ETH\",\"ETH\",\"ETH\",\"ETH\",\"ETH\",\"ETH\",\"ETH\",\"ETH\",\"ETH\",\"ETH\",\"ETH\",\"ETH\",\"ETH\",\"ETH\",\"ETH\",\"ETH\",\"ETH\",\"ETH\",\"ETH\",\"ETH\",\"ETH\",\"ETH\",\"ETH\",\"ETH\",\"ETH\",\"ETH\",\"ETH\",\"ETH\",\"ETH\",\"ETH\",\"ETH\",\"ETH\",\"ETH\",\"ETH\",\"ETH\",\"ETH\",\"ETH\",\"ETH\",\"ETH\",\"ETH\",\"ETH\",\"ETH\",\"ETH\",\"ETH\",\"ETH\",\"ETH\",\"ETH\",\"ETH\",\"ETH\",\"ETH\",\"ETH\",\"ETH\",\"ETH\",\"ETH\",\"ETH\",\"ETH\",\"ETH\",\"ETH\",\"ETH\",\"ETH\",\"ETH\",\"ETH\",\"ETH\",\"ETH\",\"ETH\",\"ETH\",\"ETH\",\"ETH\",\"ETH\",\"ETH\",\"ETH\",\"ETH\",\"ETH\",\"ETH\",\"ETH\",\"ETH\",\"ETH\",\"ETH\",\"ETH\",\"ETH\",\"ETH\",\"ETH\",\"ETH\",\"ETH\",\"ETH\",\"ETH\",\"ETH\",\"ETH\",\"ETH\",\"ETH\",\"ETH\",\"ETH\",\"ETH\",\"ETH\",\"ETH\",\"ETH\",\"ETH\",\"ETH\",\"ETH\",\"ETH\",\"ETH\",\"ETH\",\"ETH\",\"ETH\",\"ETH\",\"ETH\",\"ETH\",\"ETH\",\"ETH\",\"ETH\",\"ETH\",\"ETH\",\"ETH\",\"ETH\",\"ETH\",\"ETH\",\"ETH\",\"ETH\",\"ETH\",\"ETH\",\"ETH\",\"ETH\",\"ETH\",\"ETH\",\"ETH\",\"ETH\",\"ETH\",\"ETH\",\"ETH\",\"ETH\",\"ETH\",\"ETH\",\"ETH\",\"ETH\",\"ETH\",\"ETH\",\"ETH\",\"ETH\",\"ETH\",\"ETH\",\"ETH\",\"ETH\",\"ETH\",\"ETH\",\"ETH\",\"ETH\",\"ETH\",\"ETH\",\"ETH\",\"ETH\",\"ETH\",\"ETH\",\"ETH\"],\"value\":{\"__ndarray__\":\"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\",\"dtype\":\"float64\",\"order\":\"little\",\"shape\":[339]}},\"selected\":{\"id\":\"3924\"},\"selection_policy\":{\"id\":\"3938\"}},\"id\":\"3923\",\"type\":\"ColumnDataSource\"},{\"attributes\":{\"text\":\"Cumulative Returns of Bitcoin and Altcoins (Jan 2020 to Jan 2021)\",\"text_color\":{\"value\":\"black\"},\"text_font_size\":{\"value\":\"12pt\"}},\"id\":\"3860\",\"type\":\"Title\"},{\"attributes\":{\"line_alpha\":0.2,\"line_color\":\"#ff7e0e\",\"line_width\":2,\"x\":{\"field\":\"Date\"},\"y\":{\"field\":\"value\"}},\"id\":\"3928\",\"type\":\"Line\"},{\"attributes\":{\"line_color\":\"#1f77b3\",\"line_width\":2,\"x\":{\"field\":\"Date\"},\"y\":{\"field\":\"value\"}},\"id\":\"3896\",\"type\":\"Line\"},{\"attributes\":{\"label\":{\"value\":\"Teth\"},\"renderers\":[{\"id\":\"4028\"}]},\"id\":\"4058\",\"type\":\"LegendItem\"},{\"attributes\":{},\"id\":\"3938\",\"type\":\"UnionRenderers\"},{\"attributes\":{\"line_color\":\"#9367bc\",\"line_width\":2,\"x\":{\"field\":\"Date\"},\"y\":{\"field\":\"value\"}},\"id\":\"4025\",\"type\":\"Line\"},{\"attributes\":{\"months\":[0,1,2,3,4,5,6,7,8,9,10,11]},\"id\":\"3915\",\"type\":\"MonthsTicker\"},{\"attributes\":{},\"id\":\"3919\",\"type\":\"YearsTicker\"},{\"attributes\":{\"axis\":{\"id\":\"3868\"},\"grid_line_color\":null,\"ticker\":null},\"id\":\"3871\",\"type\":\"Grid\"},{\"attributes\":{},\"id\":\"3894\",\"type\":\"Selection\"},{\"attributes\":{\"line_alpha\":0.2,\"line_color\":\"#1f77b3\",\"line_width\":2,\"x\":{\"field\":\"Date\"},\"y\":{\"field\":\"value\"}},\"id\":\"3898\",\"type\":\"Line\"},{\"attributes\":{\"callback\":null,\"formatters\":{\"@{Date}\":\"datetime\"},\"renderers\":[{\"id\":\"3899\"},{\"id\":\"3929\"},{\"id\":\"3960\"},{\"id\":\"3993\"},{\"id\":\"4028\"}],\"tags\":[\"hv_created\"],\"tooltips\":[[\"Variable\",\"@{Variable}\"],[\"Date\",\"@{Date}{%F %T}\"],[\"value\",\"@{value}\"]]},\"id\":\"3854\",\"type\":\"HoverTool\"},{\"attributes\":{},\"id\":\"4043\",\"type\":\"UnionRenderers\"},{\"attributes\":{\"label\":{\"value\":\"BTC\"},\"renderers\":[{\"id\":\"3899\"}]},\"id\":\"3922\",\"type\":\"LegendItem\"},{\"attributes\":{\"end\":1609545600000.0,\"reset_end\":1609545600000.0,\"reset_start\":1580342400000.0,\"start\":1580342400000.0,\"tags\":[[[\"Date\",\"Date\",null]]]},\"id\":\"3852\",\"type\":\"Range1d\"},{\"attributes\":{\"label\":{\"value\":\"XRP\"},\"renderers\":[{\"id\":\"3993\"}]},\"id\":\"4021\",\"type\":\"LegendItem\"},{\"attributes\":{\"axis_label\":\"Date\",\"bounds\":\"auto\",\"formatter\":{\"id\":\"3890\"},\"major_label_orientation\":\"horizontal\",\"ticker\":{\"id\":\"3869\"}},\"id\":\"3868\",\"type\":\"DatetimeAxis\"},{\"attributes\":{\"data\":{\"Date\":{\"__ndarray__\":\"AABA9Tv/dkIAAABbjv92QgAAwMDg/3ZCAACAJjMAd0IAAECMhQB3QgAAAPLXAHdCAADAVyoBd0IAAIC9fAF3QgAAQCPPAXdCAAAAiSECd0IAAMDucwJ3QgAAgFTGAndCAABAuhgDd0IAAAAgawN3QgAAwIW9A3dCAACA6w8Ed0IAAEBRYgR3QgAAALe0BHdCAADAHAcFd0IAAICCWQV3QgAAQOirBXdCAAAATv4Fd0IAAMCzUAZ3QgAAgBmjBndCAABAf/UGd0IAAADlRwd3QgAAwEqaB3dCAACAsOwHd0IAAEAWPwh3QgAAAHyRCHdCAADA4eMId0IAAIBHNgl3QgAAQK2ICXdCAAAAE9sJd0IAAMB4LQp3QgAAgN5/CndCAABARNIKd0IAAACqJAt3QgAAwA93C3dCAACAdckLd0IAAEDbGwx3QgAAAEFuDHdCAADApsAMd0IAAIAMEw13QgAAQHJlDXdCAAAA2LcNd0IAAMA9Cg53QgAAgKNcDndCAABACa8Od0IAAABvAQ93QgAAwNRTD3dCAACAOqYPd0IAAECg+A93QgAAAAZLEHdCAADAa50Qd0IAAIDR7xB3QgAAQDdCEXdCAAAAnZQRd0IAAMAC5xF3QgAAgGg5EndCAABAzosSd0IAAAA03hJ3QgAAwJkwE3dCAACA/4ITd0IAAEBl1RN3QgAAAMsnFHdCAADAMHoUd0IAAICWzBR3QgAAQPweFXdCAAAAYnEVd0IAAMDHwxV3QgAAgC0WFndCAABAk2gWd0IAAAD5uhZ3QgAAwF4NF3dCAACAxF8Xd0IAAEAqshd3QgAAAJAEGHdCAADA9VYYd0IAAIBbqRh3QgAAQMH7GHdCAAAAJ04Zd0IAAMCMoBl3QgAAgPLyGXdCAABAWEUad0IAAAC+lxp3QgAAwCPqGndCAACAiTwbd0IAAEDvjht3QgAAAFXhG3dCAADAujMcd0IAAIAghhx3QgAAQIbYHHdCAAAA7Codd0IAAMBRfR13QgAAgLfPHXdCAABAHSIed0IAAACDdB53QgAAwOjGHndCAACAThkfd0IAAEC0ax93QgAAABq+H3dCAADAfxAgd0IAAIDlYiB3QgAAQEu1IHdCAAAAsQchd0IAAMAWWiF3QgAAgHysIXdCAABA4v4hd0IAAABIUSJ3QgAAwK2jIndCAACAE/Yid0IAAEB5SCN3QgAAAN+aI3dCAADARO0jd0IAAICqPyR3QgAAQBCSJHdCAAAAduQkd0IAAMDbNiV3QgAAgEGJJXdCAABAp9sld0IAAAANLiZ3QgAAwHKAJndCAACA2NImd0IAAEA+JSd3QgAAAKR3J3dCAADACcond0IAAIBvHCh3QgAAQNVuKHdCAAAAO8Eod0IAAMCgEyl3QgAAgAZmKXdCAABAbLgpd0IAAADSCip3QgAAwDddKndCAACAna8qd0IAAEADAit3QgAAAGlUK3dCAADAzqYrd0IAAIA0+St3QgAAQJpLLHdCAAAAAJ4sd0IAAMBl8Cx3QgAAgMtCLXdCAABAMZUtd0IAAACX5y13QgAAwPw5LndCAACAYowud0IAAEDI3i53QgAAAC4xL3dCAADAk4Mvd0IAAID51S93QgAAQF8oMHdCAAAAxXowd0IAAMAqzTB3QgAAgJAfMXdCAABA9nExd0IAAABcxDF3QgAAwMEWMndCAACAJ2kyd0IAAECNuzJ3QgAAAPMNM3dCAADAWGAzd0IAAIC+sjN3QgAAQCQFNHdCAAAAilc0d0IAAMDvqTR3QgAAgFX8NHdCAABAu041d0IAAAAhoTV3QgAAwIbzNXdCAACA7EU2d0IAAEBSmDZ3QgAAALjqNndCAADAHT03d0IAAICDjzd3QgAAQOnhN3dCAAAATzQ4d0IAAMC0hjh3QgAAgBrZOHdCAABAgCs5d0IAAADmfTl3QgAAwEvQOXdCAACAsSI6d0IAAEAXdTp3QgAAAH3HOndCAADA4hk7d0IAAIBIbDt3QgAAQK6+O3dCAAAAFBE8d0IAAMB5Yzx3QgAAgN+1PHdCAABARQg9d0IAAACrWj13QgAAwBCtPXdCAACAdv89d0IAAEDcUT53QgAAAEKkPndCAADAp/Y+d0IAAIANST93QgAAQHObP3dCAAAA2e0/d0IAAMA+QEB3QgAAgKSSQHdCAABACuVAd0IAAABwN0F3QgAAwNWJQXdCAACAO9xBd0IAAEChLkJ3QgAAAAeBQndCAADAbNNCd0IAAIDSJUN3QgAAQDh4Q3dCAAAAnspDd0IAAMADHUR3QgAAgGlvRHdCAABAz8FEd0IAAAA1FEV3QgAAwJpmRXdCAACAALlFd0IAAEBmC0Z3QgAAAMxdRndCAADAMbBGd0IAAICXAkd3QgAAQP1UR3dCAAAAY6dHd0IAAMDI+Ud3QgAAgC5MSHdCAABAlJ5Id0IAAAD68Eh3QgAAwF9DSXdCAACAxZVJd0IAAEAr6El3QgAAAJE6SndCAADA9oxKd0IAAIBc30p3QgAAQMIxS3dCAAAAKIRLd0IAAMCN1kt3QgAAgPMoTHdCAABAWXtMd0IAAAC/zUx3QgAAwCQgTXdCAACAinJNd0IAAEDwxE13QgAAAFYXTndCAADAu2lOd0IAAIAhvE53QgAAQIcOT3dCAAAA7WBPd0IAAMBSs093QgAAgLgFUHdCAABAHlhQd0IAAACEqlB3QgAAwOn8UHdCAACAT09Rd0IAAEC1oVF3QgAAABv0UXdCAADAgEZSd0IAAIDmmFJ3QgAAQEzrUndCAAAAsj1Td0IAAMAXkFN3QgAAgH3iU3dCAABA4zRUd0IAAABJh1R3QgAAwK7ZVHdCAACAFCxVd0IAAEB6flV3QgAAAODQVXdCAADARSNWd0IAAICrdVZ3QgAAQBHIVndCAAAAdxpXd0IAAMDcbFd3QgAAgEK/V3dCAABAqBFYd0IAAAAOZFh3QgAAwHO2WHdCAACA2QhZd0IAAEA/W1l3QgAAAKWtWXdCAADACgBad0IAAIBwUlp3QgAAQNakWndCAAAAPPdad0IAAMChSVt3QgAAgAecW3dCAABAbe5bd0IAAADTQFx3QgAAwDiTXHdCAACAnuVcd0IAAEAEOF13QgAAAGqKXXdCAADAz9xdd0IAAIA1L153QgAAQJuBXndCAAAAAdRed0IAAMBmJl93QgAAgMx4X3dCAABAMstfd0IAAACYHWB3QgAAwP1vYHdCAACAY8Jgd0IAAEDJFGF3QgAAAC9nYXdCAADAlLlhd0IAAID6C2J3QgAAQGBeYndCAAAAxrBid0IAAMArA2N3QgAAgJFVY3dCAABA96djd0IAAABd+mN3QgAAwMJMZHdCAACAKJ9kd0IAAECO8WR3QgAAAPRDZXdCAADAWZZld0IAAIC/6GV3QgAAQCU7ZndCAAAAi41md0IAAMDw32Z3QgAAgFYyZ3dCAABAvIRnd0IAAAAi12d3QgAAwIcpaHdCAACA7Xtod0IAAEBTzmh3QgAAALkgaXdCAADAHnNpd0IAAICExWl3QgAAQOoXandCAAAAUGpqd0IAAMC1vGp3QgAAgBsPa3dCAABAgWFrd0IAAADns2t3QgAAwEwGbHdC\",\"dtype\":\"float64\",\"order\":\"little\",\"shape\":[339]},\"Variable\":[\"XLM\",\"XLM\",\"XLM\",\"XLM\",\"XLM\",\"XLM\",\"XLM\",\"XLM\",\"XLM\",\"XLM\",\"XLM\",\"XLM\",\"XLM\",\"XLM\",\"XLM\",\"XLM\",\"XLM\",\"XLM\",\"XLM\",\"XLM\",\"XLM\",\"XLM\",\"XLM\",\"XLM\",\"XLM\",\"XLM\",\"XLM\",\"XLM\",\"XLM\",\"XLM\",\"XLM\",\"XLM\",\"XLM\",\"XLM\",\"XLM\",\"XLM\",\"XLM\",\"XLM\",\"XLM\",\"XLM\",\"XLM\",\"XLM\",\"XLM\",\"XLM\",\"XLM\",\"XLM\",\"XLM\",\"XLM\",\"XLM\",\"XLM\",\"XLM\",\"XLM\",\"XLM\",\"XLM\",\"XLM\",\"XLM\",\"XLM\",\"XLM\",\"XLM\",\"XLM\",\"XLM\",\"XLM\",\"XLM\",\"XLM\",\"XLM\",\"XLM\",\"XLM\",\"XLM\",\"XLM\",\"XLM\",\"XLM\",\"XLM\",\"XLM\",\"XLM\",\"XLM\",\"XLM\",\"XLM\",\"XLM\",\"XLM\",\"XLM\",\"XLM\",\"XLM\",\"XLM\",\"XLM\",\"XLM\",\"XLM\",\"XLM\",\"XLM\",\"XLM\",\"XLM\",\"XLM\",\"XLM\",\"XLM\",\"XLM\",\"XLM\",\"XLM\",\"XLM\",\"XLM\",\"XLM\",\"XLM\",\"XLM\",\"XLM\",\"XLM\",\"XLM\",\"XLM\",\"XLM\",\"XLM\",\"XLM\",\"XLM\",\"XLM\",\"XLM\",\"XLM\",\"XLM\",\"XLM\",\"XLM\",\"XLM\",\"XLM\",\"XLM\",\"XLM\",\"XLM\",\"XLM\",\"XLM\",\"XLM\",\"XLM\",\"XLM\",\"XLM\",\"XLM\",\"XLM\",\"XLM\",\"XLM\",\"XLM\",\"XLM\",\"XLM\",\"XLM\",\"XLM\",\"XLM\",\"XLM\",\"XLM\",\"XLM\",\"XLM\",\"XLM\",\"XLM\",\"XLM\",\"XLM\",\"XLM\",\"XLM\",\"XLM\",\"XLM\",\"XLM\",\"XLM\",\"XLM\",\"XLM\",\"XLM\",\"XLM\",\"XLM\",\"XLM\",\"XLM\",\"XLM\",\"XLM\",\"XLM\",\"XLM\",\"XLM\",\"XLM\",\"XLM\",\"XLM\",\"XLM\",\"XLM\",\"XLM\",\"XLM\",\"XLM\",\"XLM\",\"XLM\",\"XLM\",\"XLM\",\"XLM\",\"XLM\",\"XLM\",\"XLM\",\"XLM\",\"XLM\",\"XLM\",\"XLM\",\"XLM\",\"XLM\",\"XLM\",\"XLM\",\"XLM\",\"XLM\",\"XLM\",\"XLM\",\"XLM\",\"XLM\",\"XLM\",\"XLM\",\"XLM\",\"XLM\",\"XLM\",\"XLM\",\"XLM\",\"XLM\",\"XLM\",\"XLM\",\"XLM\",\"XLM\",\"XLM\",\"XLM\",\"XLM\",\"XLM\",\"XLM\",\"XLM\",\"XLM\",\"XLM\",\"XLM\",\"XLM\",\"XLM\",\"XLM\",\"XLM\",\"XLM\",\"XLM\",\"XLM\",\"XLM\",\"XLM\",\"XLM\",\"XLM\",\"XLM\",\"XLM\",\"XLM\",\"XLM\",\"XLM\",\"XLM\",\"XLM\",\"XLM\",\"XLM\",\"XLM\",\"XLM\",\"XLM\",\"XLM\",\"XLM\",\"XLM\",\"XLM\",\"XLM\",\"XLM\",\"XLM\",\"XLM\",\"XLM\",\"XLM\",\"XLM\",\"XLM\",\"XLM\",\"XLM\",\"XLM\",\"XLM\",\"XLM\",\"XLM\",\"XLM\",\"XLM\",\"XLM\",\"XLM\",\"XLM\",\"XLM\",\"XLM\",\"XLM\",\"XLM\",\"XLM\",\"XLM\",\"XLM\",\"XLM\",\"XLM\",\"XLM\",\"XLM\",\"XLM\",\"XLM\",\"XLM\",\"XLM\",\"XLM\",\"XLM\",\"XLM\",\"XLM\",\"XLM\",\"XLM\",\"XLM\",\"XLM\",\"XLM\",\"XLM\",\"XLM\",\"XLM\",\"XLM\",\"XLM\",\"XLM\",\"XLM\",\"XLM\",\"XLM\",\"XLM\",\"XLM\",\"XLM\",\"XLM\",\"XLM\",\"XLM\",\"XLM\",\"XLM\",\"XLM\",\"XLM\",\"XLM\",\"XLM\",\"XLM\",\"XLM\",\"XLM\",\"XLM\",\"XLM\",\"XLM\",\"XLM\",\"XLM\",\"XLM\",\"XLM\",\"XLM\",\"XLM\",\"XLM\",\"XLM\",\"XLM\",\"XLM\",\"XLM\",\"XLM\",\"XLM\",\"XLM\",\"XLM\",\"XLM\",\"XLM\",\"XLM\",\"XLM\",\"XLM\",\"XLM\",\"XLM\",\"XLM\",\"XLM\",\"XLM\",\"XLM\",\"XLM\",\"XLM\",\"XLM\"],\"value\":{\"__ndarray__\":\"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\",\"dtype\":\"float64\",\"order\":\"little\",\"shape\":[339]}},\"selected\":{\"id\":\"3955\"},\"selection_policy\":{\"id\":\"3971\"}},\"id\":\"3954\",\"type\":\"ColumnDataSource\"},{\"attributes\":{},\"id\":\"4006\",\"type\":\"UnionRenderers\"},{\"attributes\":{\"num_minor_ticks\":5,\"tickers\":[{\"id\":\"3908\"},{\"id\":\"3909\"},{\"id\":\"3910\"},{\"id\":\"3911\"},{\"id\":\"3912\"},{\"id\":\"3913\"},{\"id\":\"3914\"},{\"id\":\"3915\"},{\"id\":\"3916\"},{\"id\":\"3917\"},{\"id\":\"3918\"},{\"id\":\"3919\"}]},\"id\":\"3869\",\"type\":\"DatetimeTicker\"},{\"attributes\":{\"margin\":[5,5,5,5],\"name\":\"HSpacer05989\",\"sizing_mode\":\"stretch_width\"},\"id\":\"4311\",\"type\":\"Spacer\"},{\"attributes\":{\"data\":{\"Date\":{\"__ndarray__\":\"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\",\"dtype\":\"float64\",\"order\":\"little\",\"shape\":[339]},\"Variable\":[\"XRP\",\"XRP\",\"XRP\",\"XRP\",\"XRP\",\"XRP\",\"XRP\",\"XRP\",\"XRP\",\"XRP\",\"XRP\",\"XRP\",\"XRP\",\"XRP\",\"XRP\",\"XRP\",\"XRP\",\"XRP\",\"XRP\",\"XRP\",\"XRP\",\"XRP\",\"XRP\",\"XRP\",\"XRP\",\"XRP\",\"XRP\",\"XRP\",\"XRP\",\"XRP\",\"XRP\",\"XRP\",\"XRP\",\"XRP\",\"XRP\",\"XRP\",\"XRP\",\"XRP\",\"XRP\",\"XRP\",\"XRP\",\"XRP\",\"XRP\",\"XRP\",\"XRP\",\"XRP\",\"XRP\",\"XRP\",\"XRP\",\"XRP\",\"XRP\",\"XRP\",\"XRP\",\"XRP\",\"XRP\",\"XRP\",\"XRP\",\"XRP\",\"XRP\",\"XRP\",\"XRP\",\"XRP\",\"XRP\",\"XRP\",\"XRP\",\"XRP\",\"XRP\",\"XRP\",\"XRP\",\"XRP\",\"XRP\",\"XRP\",\"XRP\",\"XRP\",\"XRP\",\"XRP\",\"XRP\",\"XRP\",\"XRP\",\"XRP\",\"XRP\",\"XRP\",\"XRP\",\"XRP\",\"XRP\",\"XRP\",\"XRP\",\"XRP\",\"XRP\",\"XRP\",\"XRP\",\"XRP\",\"XRP\",\"XRP\",\"XRP\",\"XRP\",\"XRP\",\"XRP\",\"XRP\",\"XRP\",\"XRP\",\"XRP\",\"XRP\",\"XRP\",\"XRP\",\"XRP\",\"XRP\",\"XRP\",\"XRP\",\"XRP\",\"XRP\",\"XRP\",\"XRP\",\"XRP\",\"XRP\",\"XRP\",\"XRP\",\"XRP\",\"XRP\",\"XRP\",\"XRP\",\"XRP\",\"XRP\",\"XRP\",\"XRP\",\"XRP\",\"XRP\",\"XRP\",\"XRP\",\"XRP\",\"XRP\",\"XRP\",\"XRP\",\"XRP\",\"XRP\",\"XRP\",\"XRP\",\"XRP\",\"XRP\",\"XRP\",\"XRP\",\"XRP\",\"XRP\",\"XRP\",\"XRP\",\"XRP\",\"XRP\",\"XRP\",\"XRP\",\"XRP\",\"XRP\",\"XRP\",\"XRP\",\"XRP\",\"XRP\",\"XRP\",\"XRP\",\"XRP\",\"XRP\",\"XRP\",\"XRP\",\"XRP\",\"XRP\",\"XRP\",\"XRP\",\"XRP\",\"XRP\",\"XRP\",\"XRP\",\"XRP\",\"XRP\",\"XRP\",\"XRP\",\"XRP\",\"XRP\",\"XRP\",\"XRP\",\"XRP\",\"XRP\",\"XRP\",\"XRP\",\"XRP\",\"XRP\",\"XRP\",\"XRP\",\"XRP\",\"XRP\",\"XRP\",\"XRP\",\"XRP\",\"XRP\",\"XRP\",\"XRP\",\"XRP\",\"XRP\",\"XRP\",\"XRP\",\"XRP\",\"XRP\",\"XRP\",\"XRP\",\"XRP\",\"XRP\",\"XRP\",\"XRP\",\"XRP\",\"XRP\",\"XRP\",\"XRP\",\"XRP\",\"XRP\",\"XRP\",\"XRP\",\"XRP\",\"XRP\",\"XRP\",\"XRP\",\"XRP\",\"XRP\",\"XRP\",\"XRP\",\"XRP\",\"XRP\",\"XRP\",\"XRP\",\"XRP\",\"XRP\",\"XRP\",\"XRP\",\"XRP\",\"XRP\",\"XRP\",\"XRP\",\"XRP\",\"XRP\",\"XRP\",\"XRP\",\"XRP\",\"XRP\",\"XRP\",\"XRP\",\"XRP\",\"XRP\",\"XRP\",\"XRP\",\"XRP\",\"XRP\",\"XRP\",\"XRP\",\"XRP\",\"XRP\",\"XRP\",\"XRP\",\"XRP\",\"XRP\",\"XRP\",\"XRP\",\"XRP\",\"XRP\",\"XRP\",\"XRP\",\"XRP\",\"XRP\",\"XRP\",\"XRP\",\"XRP\",\"XRP\",\"XRP\",\"XRP\",\"XRP\",\"XRP\",\"XRP\",\"XRP\",\"XRP\",\"XRP\",\"XRP\",\"XRP\",\"XRP\",\"XRP\",\"XRP\",\"XRP\",\"XRP\",\"XRP\",\"XRP\",\"XRP\",\"XRP\",\"XRP\",\"XRP\",\"XRP\",\"XRP\",\"XRP\",\"XRP\",\"XRP\",\"XRP\",\"XRP\",\"XRP\",\"XRP\",\"XRP\",\"XRP\",\"XRP\",\"XRP\",\"XRP\",\"XRP\",\"XRP\",\"XRP\",\"XRP\",\"XRP\",\"XRP\",\"XRP\",\"XRP\",\"XRP\",\"XRP\",\"XRP\",\"XRP\",\"XRP\",\"XRP\",\"XRP\",\"XRP\",\"XRP\",\"XRP\",\"XRP\",\"XRP\",\"XRP\",\"XRP\",\"XRP\",\"XRP\",\"XRP\",\"XRP\",\"XRP\",\"XRP\",\"XRP\",\"XRP\",\"XRP\",\"XRP\",\"XRP\",\"XRP\",\"XRP\",\"XRP\",\"XRP\"],\"value\":{\"__ndarray__\":\"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\",\"dtype\":\"float64\",\"order\":\"little\",\"shape\":[339]}},\"selected\":{\"id\":\"3988\"},\"selection_policy\":{\"id\":\"4006\"}},\"id\":\"3987\",\"type\":\"ColumnDataSource\"},{\"attributes\":{\"line_alpha\":0.1,\"line_color\":\"#1f77b3\",\"line_width\":2,\"x\":{\"field\":\"Date\"},\"y\":{\"field\":\"value\"}},\"id\":\"3897\",\"type\":\"Line\"}],\"root_ids\":[\"3850\"]},\"title\":\"Bokeh Application\",\"version\":\"2.2.3\"}};\n",
       "    var render_items = [{\"docid\":\"92a57000-b03c-4948-b2b0-b3ef35dd11d3\",\"root_ids\":[\"3850\"],\"roots\":{\"3850\":\"623450bc-4f24-4c68-96ba-1d4ce010be6c\"}}];\n",
       "    root.Bokeh.embed.embed_items_notebook(docs_json, render_items);\n",
       "  }\n",
       "  if (root.Bokeh !== undefined && root.Bokeh.Panel !== undefined) {\n",
       "    embed_document(root);\n",
       "  } else {\n",
       "    var attempts = 0;\n",
       "    var timer = setInterval(function(root) {\n",
       "      if (root.Bokeh !== undefined && root.Bokeh.Panel !== undefined) {\n",
       "        clearInterval(timer);\n",
       "        embed_document(root);\n",
       "      } else if (document.readyState == \"complete\") {\n",
       "        attempts++;\n",
       "        if (attempts > 100) {\n",
       "          clearInterval(timer);\n",
       "          console.log(\"Bokeh: ERROR: Unable to run BokehJS code because BokehJS library is missing\");\n",
       "        }\n",
       "      }\n",
       "    }, 10, root)\n",
       "  }\n",
       "})(window);</script>"
      ],
      "text/plain": [
       ":NdOverlay   [Variable]\n",
       "   :Curve   [Date]   (value)"
      ]
     },
     "execution_count": 58,
     "metadata": {
      "application/vnd.holoviews_exec.v0+json": {
       "id": "3850"
      }
     },
     "output_type": "execute_result"
    }
   ],
   "source": [
    "cumulative_returns.hvplot(figsize = (30,15), title = \"Cumulative Returns of Bitcoin and Altcoins (Jan 2020 to Jan 2021)\")"
   ]
  },
  {
   "cell_type": "code",
   "execution_count": null,
   "metadata": {},
   "outputs": [],
   "source": []
  }
 ],
 "metadata": {
  "kernelspec": {
   "display_name": "Python [conda env:pyvizenv]",
   "language": "python",
   "name": "conda-env-pyvizenv-py"
  },
  "language_info": {
   "codemirror_mode": {
    "name": "ipython",
    "version": 3
   },
   "file_extension": ".py",
   "mimetype": "text/x-python",
   "name": "python",
   "nbconvert_exporter": "python",
   "pygments_lexer": "ipython3",
   "version": "3.7.9"
  }
 },
 "nbformat": 4,
 "nbformat_minor": 4
}
